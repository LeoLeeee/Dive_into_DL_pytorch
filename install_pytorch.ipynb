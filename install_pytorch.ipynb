{
 "metadata": {
  "language_info": {
   "codemirror_mode": {
    "name": "ipython",
    "version": 3
   },
   "file_extension": ".py",
   "mimetype": "text/x-python",
   "name": "python",
   "nbconvert_exporter": "python",
   "pygments_lexer": "ipython3",
   "version": "3.8.5-final"
  },
  "orig_nbformat": 2,
  "kernelspec": {
   "name": "python3",
   "display_name": "Python 3.8.5 64-bit ('pytorch_gpu': conda)",
   "metadata": {
    "interpreter": {
     "hash": "87ea0c2bfc8d33363b62de134cfa12cc037bed7b7625ab24887ee8fe91891aef"
    }
   }
  }
 },
 "nbformat": 4,
 "nbformat_minor": 2,
 "cells": [
  {
   "source": [
    "# Install pytorch\n",
    "## 1. create python enviroment with conda\n",
    "'conda create -n pytorch_gpu pip python=3.8'\n",
    "## 2. install pytorch\n",
    "'conda install pytorch torchvision torchaudio cudatoolkit=10.2 -c pytorch'\n",
    "## 3. if error occur:\n",
    "'CondaHTTPError: HTTP 000 CONNECTION FAILED for url <https://conda.anaconda.org/pytorch/win-64/current_repodata.json> Elapsed: -'\n",
    "The source in china is blocked, and the source from TsingHua is used by too many people, please use other [source](https://blog.csdn.net/weixin_42056422/article/details/111221253)\n",
    "\n",
    "The .condarc file content:\n",
    "\n",
    "channels:\n",
    "  - defaults\n",
    "show_channel_urls: true\n",
    "\n",
    "channel_alias: https://mirror.bjtu.edu.cn/anaconda\n",
    "\n",
    "default_channels:\n",
    "  - https://mirror.bjtu.edu.cn/anaconda/pkgs/main\n",
    "  - https://mirror.bjtu.edu.cn/anaconda/pkgs/free\n",
    "  - https://mirror.bjtu.edu.cn/anaconda/pkgs/r\n",
    "  - https://mirror.bjtu.edu.cn/anaconda/pkgs/pro\n",
    "  - https://mirror.bjtu.edu.cn/anaconda/pkgs/msys2\n",
    "\n",
    "custom_channels:\n",
    "  conda-forge: https://mirror.bjtu.edu.cn/anaconda/cloud\n",
    "  msys2: https://mirror.bjtu.edu.cn/anaconda/cloud\n",
    "  bioconda: https://mirror.bjtu.edu.cn/anaconda/cloud\n",
    "  menpo: https://mirror.bjtu.edu.cn/anaconda/cloud\n",
    "  pytorch: https://mirror.bjtu.edu.cn/anaconda/cloud\n",
    "  simpleitk: https://mirror.bjtu.edu.cn/anaconda/cloud\n",
    "  \n",
    "channel_priority: flexible\n",
    "## 4. If you can not import torch in Jypyter notebook, use these two commands in your created environment\n",
    "'conda install nb_conda'\n",
    "'conda install ipykernel'\n",
    "And then, restart the vscode."
   ],
   "cell_type": "markdown",
   "metadata": {}
  },
  {
   "cell_type": "code",
   "execution_count": 1,
   "metadata": {},
   "outputs": [],
   "source": [
    "import numpy as np"
   ]
  },
  {
   "cell_type": "code",
   "execution_count": 2,
   "metadata": {},
   "outputs": [
    {
     "output_type": "stream",
     "name": "stdout",
     "text": [
      "1.7.1\n"
     ]
    }
   ],
   "source": [
    "import torch\n",
    "print(torch.__version__)"
   ]
  },
  {
   "cell_type": "code",
   "execution_count": 3,
   "metadata": {},
   "outputs": [
    {
     "output_type": "stream",
     "name": "stdout",
     "text": [
      "tensor([[0.3953, 0.1188, 0.8080],\n        [0.2524, 0.4276, 0.7408],\n        [0.4858, 0.1039, 0.1898],\n        [0.0119, 0.4496, 0.2698],\n        [0.6373, 0.3388, 0.9158]])\ntorch.Size([5, 3])\n3\n"
     ]
    }
   ],
   "source": [
    "x=torch.rand(5,3)\n",
    "print(x,)\n",
    "print(x.shape)\n",
    "print(x.shape[1])"
   ]
  },
  {
   "cell_type": "code",
   "execution_count": 4,
   "metadata": {},
   "outputs": [
    {
     "output_type": "execute_result",
     "data": {
      "text/plain": [
       "True"
      ]
     },
     "metadata": {},
     "execution_count": 4
    }
   ],
   "source": [
    "torch.cuda.is_available()"
   ]
  },
  {
   "cell_type": "code",
   "execution_count": null,
   "metadata": {},
   "outputs": [],
   "source": []
  }
 ]
}