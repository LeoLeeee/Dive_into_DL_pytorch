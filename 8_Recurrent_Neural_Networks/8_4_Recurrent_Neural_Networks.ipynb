{
 "metadata": {
  "language_info": {
   "codemirror_mode": {
    "name": "ipython",
    "version": 3
   },
   "file_extension": ".py",
   "mimetype": "text/x-python",
   "name": "python",
   "nbconvert_exporter": "python",
   "pygments_lexer": "ipython3",
   "version": "3.8.5-final"
  },
  "orig_nbformat": 2,
  "kernelspec": {
   "name": "python3",
   "display_name": "Python 3",
   "language": "python"
  }
 },
 "nbformat": 4,
 "nbformat_minor": 2,
 "cells": [
  {
   "cell_type": "code",
   "execution_count": 1,
   "metadata": {},
   "outputs": [
    {
     "output_type": "execute_result",
     "data": {
      "text/plain": [
       "tensor([[ 0.4417,  1.7237,  2.4961,  4.6544],\n",
       "        [-2.7938,  0.5064, -2.9984, -0.6321],\n",
       "        [-3.0652, -1.7885, -0.1195, -1.5248]])"
      ]
     },
     "metadata": {},
     "execution_count": 1
    }
   ],
   "source": [
    "import sys\n",
    "sys.path.append('..')\n",
    "from d2l import torch as d2l\n",
    "import torch\n",
    "\n",
    "X, W_xh = torch.normal(0, 1.0, (3, 1)), torch.normal(0, 1.0, (1, 4))\n",
    "H, W_hh = torch.normal(0, 1.0, (3, 4)), torch.normal(0, 1.0, (4, 4))\n",
    "torch.matmul(X, W_xh) + torch.matmul(H, W_hh)\n"
   ]
  },
  {
   "cell_type": "code",
   "execution_count": 4,
   "metadata": {},
   "outputs": [
    {
     "output_type": "execute_result",
     "data": {
      "text/plain": [
       "tensor([[ 0.4417,  1.7237,  2.4961,  4.6544],\n",
       "        [-2.7938,  0.5064, -2.9984, -0.6321],\n",
       "        [-3.0652, -1.7885, -0.1195, -1.5248]])"
      ]
     },
     "metadata": {},
     "execution_count": 4
    }
   ],
   "source": [
    "torch.matmul(torch.cat((X, H), 1), torch.cat((W_xh, W_hh), 0))"
   ]
  }
 ]
}